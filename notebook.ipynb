{
 "cells": [
  {
   "cell_type": "code",
   "execution_count": 2,
   "metadata": {},
   "outputs": [],
   "source": [
    "# !pip freeze > requirements.txt\n"
   ]
  },
  {
   "cell_type": "code",
   "execution_count": 71,
   "metadata": {},
   "outputs": [
    {
     "name": "stdout",
     "output_type": "stream",
     "text": [
      "Collecting dash_bootstrap_components\n",
      "  Using cached dash_bootstrap_components-1.4.1-py3-none-any.whl (220 kB)\n",
      "Requirement already satisfied: dash>=2.0.0 in c:\\users\\cian-work\\documents\\personal projects\\job_search\\.venv\\lib\\site-packages (from dash_bootstrap_components) (2.9.3)\n",
      "Requirement already satisfied: Flask>=1.0.4 in c:\\users\\cian-work\\documents\\personal projects\\job_search\\.venv\\lib\\site-packages (from dash>=2.0.0->dash_bootstrap_components) (2.3.2)\n",
      "Requirement already satisfied: plotly>=5.0.0 in c:\\users\\cian-work\\documents\\personal projects\\job_search\\.venv\\lib\\site-packages (from dash>=2.0.0->dash_bootstrap_components) (5.14.1)\n",
      "Requirement already satisfied: dash-html-components==2.0.0 in c:\\users\\cian-work\\documents\\personal projects\\job_search\\.venv\\lib\\site-packages (from dash>=2.0.0->dash_bootstrap_components) (2.0.0)\n",
      "Requirement already satisfied: dash-core-components==2.0.0 in c:\\users\\cian-work\\documents\\personal projects\\job_search\\.venv\\lib\\site-packages (from dash>=2.0.0->dash_bootstrap_components) (2.0.0)\n",
      "Requirement already satisfied: dash-table==5.0.0 in c:\\users\\cian-work\\documents\\personal projects\\job_search\\.venv\\lib\\site-packages (from dash>=2.0.0->dash_bootstrap_components) (5.0.0)\n",
      "Requirement already satisfied: Werkzeug>=2.3.3 in c:\\users\\cian-work\\documents\\personal projects\\job_search\\.venv\\lib\\site-packages (from Flask>=1.0.4->dash>=2.0.0->dash_bootstrap_components) (2.3.4)\n",
      "Requirement already satisfied: Jinja2>=3.1.2 in c:\\users\\cian-work\\documents\\personal projects\\job_search\\.venv\\lib\\site-packages (from Flask>=1.0.4->dash>=2.0.0->dash_bootstrap_components) (3.1.2)\n",
      "Requirement already satisfied: itsdangerous>=2.1.2 in c:\\users\\cian-work\\documents\\personal projects\\job_search\\.venv\\lib\\site-packages (from Flask>=1.0.4->dash>=2.0.0->dash_bootstrap_components) (2.1.2)\n",
      "Requirement already satisfied: click>=8.1.3 in c:\\users\\cian-work\\documents\\personal projects\\job_search\\.venv\\lib\\site-packages (from Flask>=1.0.4->dash>=2.0.0->dash_bootstrap_components) (8.1.3)\n",
      "Requirement already satisfied: blinker>=1.6.2 in c:\\users\\cian-work\\documents\\personal projects\\job_search\\.venv\\lib\\site-packages (from Flask>=1.0.4->dash>=2.0.0->dash_bootstrap_components) (1.6.2)\n",
      "Requirement already satisfied: tenacity>=6.2.0 in c:\\users\\cian-work\\documents\\personal projects\\job_search\\.venv\\lib\\site-packages (from plotly>=5.0.0->dash>=2.0.0->dash_bootstrap_components) (8.2.2)\n",
      "Requirement already satisfied: packaging in c:\\users\\cian-work\\documents\\personal projects\\job_search\\.venv\\lib\\site-packages (from plotly>=5.0.0->dash>=2.0.0->dash_bootstrap_components) (23.1)\n",
      "Requirement already satisfied: colorama in c:\\users\\cian-work\\documents\\personal projects\\job_search\\.venv\\lib\\site-packages (from click>=8.1.3->Flask>=1.0.4->dash>=2.0.0->dash_bootstrap_components) (0.4.6)\n",
      "Requirement already satisfied: MarkupSafe>=2.0 in c:\\users\\cian-work\\documents\\personal projects\\job_search\\.venv\\lib\\site-packages (from Jinja2>=3.1.2->Flask>=1.0.4->dash>=2.0.0->dash_bootstrap_components) (2.1.2)\n",
      "Installing collected packages: dash_bootstrap_components\n",
      "Successfully installed dash_bootstrap_components-1.4.1\n"
     ]
    }
   ],
   "source": [
    "!pip install dash_bootstrap_components"
   ]
  },
  {
   "cell_type": "code",
   "execution_count": 3,
   "metadata": {},
   "outputs": [],
   "source": [
    "import pandas as pd\n",
    "import plotly.graph_objects as go"
   ]
  },
  {
   "cell_type": "code",
   "execution_count": 43,
   "metadata": {},
   "outputs": [
    {
     "data": {
      "text/html": [
       "<div>\n",
       "<style scoped>\n",
       "    .dataframe tbody tr th:only-of-type {\n",
       "        vertical-align: middle;\n",
       "    }\n",
       "\n",
       "    .dataframe tbody tr th {\n",
       "        vertical-align: top;\n",
       "    }\n",
       "\n",
       "    .dataframe thead th {\n",
       "        text-align: right;\n",
       "    }\n",
       "</style>\n",
       "<table border=\"1\" class=\"dataframe\">\n",
       "  <thead>\n",
       "    <tr style=\"text-align: right;\">\n",
       "      <th></th>\n",
       "      <th>Title</th>\n",
       "      <th>Company</th>\n",
       "      <th>Created at</th>\n",
       "      <th>List</th>\n",
       "      <th>Source</th>\n",
       "      <th>Ghosted after interview</th>\n",
       "    </tr>\n",
       "  </thead>\n",
       "  <tbody>\n",
       "    <tr>\n",
       "      <th>0</th>\n",
       "      <td>Principal Data Scientist , Search and Personal...</td>\n",
       "      <td>Getty Images</td>\n",
       "      <td>May 19 2023, 09:00 am</td>\n",
       "      <td>apply to</td>\n",
       "      <td>linkedin.com</td>\n",
       "      <td>0</td>\n",
       "    </tr>\n",
       "    <tr>\n",
       "      <th>1</th>\n",
       "      <td>Trading Application Support Analyst</td>\n",
       "      <td>John Wiley &amp; Sons</td>\n",
       "      <td>May 19 2023, 08:22 am</td>\n",
       "      <td>apply to</td>\n",
       "      <td>linkedin.com</td>\n",
       "      <td>0</td>\n",
       "    </tr>\n",
       "    <tr>\n",
       "      <th>2</th>\n",
       "      <td>Computational Cancer Biologist</td>\n",
       "      <td>Vevo Therapeutics</td>\n",
       "      <td>May 19 2023, 07:00 am</td>\n",
       "      <td>applied</td>\n",
       "      <td>linkedin.com</td>\n",
       "      <td>0</td>\n",
       "    </tr>\n",
       "    <tr>\n",
       "      <th>3</th>\n",
       "      <td>Data Engineer</td>\n",
       "      <td>Aja Hannah</td>\n",
       "      <td>May 19 2023, 07:00 am</td>\n",
       "      <td>applied</td>\n",
       "      <td>linkedin.com</td>\n",
       "      <td>0</td>\n",
       "    </tr>\n",
       "    <tr>\n",
       "      <th>4</th>\n",
       "      <td>Data Analytics Engineer/Specialist</td>\n",
       "      <td>ConocoPhillips</td>\n",
       "      <td>May 19 2023, 06:39 am</td>\n",
       "      <td>applied</td>\n",
       "      <td>indeed.com</td>\n",
       "      <td>0</td>\n",
       "    </tr>\n",
       "    <tr>\n",
       "      <th>...</th>\n",
       "      <td>...</td>\n",
       "      <td>...</td>\n",
       "      <td>...</td>\n",
       "      <td>...</td>\n",
       "      <td>...</td>\n",
       "      <td>...</td>\n",
       "    </tr>\n",
       "    <tr>\n",
       "      <th>139</th>\n",
       "      <td>Product Support Analyst</td>\n",
       "      <td>Central Michigan University</td>\n",
       "      <td>Apr 17 2023, 06:05 pm</td>\n",
       "      <td>applied</td>\n",
       "      <td>indeed.com</td>\n",
       "      <td>0</td>\n",
       "    </tr>\n",
       "    <tr>\n",
       "      <th>140</th>\n",
       "      <td>Performance Analyst – Hydroelectric energy</td>\n",
       "      <td>Innergex</td>\n",
       "      <td>Apr 17 2023, 06:05 pm</td>\n",
       "      <td>applied</td>\n",
       "      <td>indeed.com</td>\n",
       "      <td>0</td>\n",
       "    </tr>\n",
       "    <tr>\n",
       "      <th>141</th>\n",
       "      <td>Data Analyst, Business Optimisation</td>\n",
       "      <td>VOSKER</td>\n",
       "      <td>Apr 17 2023, 06:05 pm</td>\n",
       "      <td>applied</td>\n",
       "      <td>indeed.com</td>\n",
       "      <td>0</td>\n",
       "    </tr>\n",
       "    <tr>\n",
       "      <th>142</th>\n",
       "      <td>Data Scientist</td>\n",
       "      <td>PROFICIENTMANAGEMENT</td>\n",
       "      <td>Apr 17 2023, 06:05 pm</td>\n",
       "      <td>applied</td>\n",
       "      <td>indeed.com</td>\n",
       "      <td>0</td>\n",
       "    </tr>\n",
       "    <tr>\n",
       "      <th>143</th>\n",
       "      <td>Statistician</td>\n",
       "      <td>Charlton Morris</td>\n",
       "      <td>Apr 17 2023, 06:04 pm</td>\n",
       "      <td>TRASH</td>\n",
       "      <td>linkedin.com</td>\n",
       "      <td>0</td>\n",
       "    </tr>\n",
       "  </tbody>\n",
       "</table>\n",
       "<p>144 rows × 6 columns</p>\n",
       "</div>"
      ],
      "text/plain": [
       "                                                 Title   \n",
       "0    Principal Data Scientist , Search and Personal...  \\\n",
       "1                  Trading Application Support Analyst   \n",
       "2                       Computational Cancer Biologist   \n",
       "3                                        Data Engineer   \n",
       "4                   Data Analytics Engineer/Specialist   \n",
       "..                                                 ...   \n",
       "139                            Product Support Analyst   \n",
       "140         Performance Analyst – Hydroelectric energy   \n",
       "141                Data Analyst, Business Optimisation   \n",
       "142                                     Data Scientist   \n",
       "143                                       Statistician   \n",
       "\n",
       "                         Company             Created at      List   \n",
       "0                   Getty Images  May 19 2023, 09:00 am  apply to  \\\n",
       "1              John Wiley & Sons  May 19 2023, 08:22 am  apply to   \n",
       "2              Vevo Therapeutics  May 19 2023, 07:00 am   applied   \n",
       "3                     Aja Hannah  May 19 2023, 07:00 am   applied   \n",
       "4                 ConocoPhillips  May 19 2023, 06:39 am   applied   \n",
       "..                           ...                    ...       ...   \n",
       "139  Central Michigan University  Apr 17 2023, 06:05 pm   applied   \n",
       "140                     Innergex  Apr 17 2023, 06:05 pm   applied   \n",
       "141                       VOSKER  Apr 17 2023, 06:05 pm   applied   \n",
       "142         PROFICIENTMANAGEMENT  Apr 17 2023, 06:05 pm   applied   \n",
       "143              Charlton Morris  Apr 17 2023, 06:04 pm     TRASH   \n",
       "\n",
       "           Source  Ghosted after interview  \n",
       "0    linkedin.com                        0  \n",
       "1    linkedin.com                        0  \n",
       "2    linkedin.com                        0  \n",
       "3    linkedin.com                        0  \n",
       "4      indeed.com                        0  \n",
       "..            ...                      ...  \n",
       "139    indeed.com                        0  \n",
       "140    indeed.com                        0  \n",
       "141    indeed.com                        0  \n",
       "142    indeed.com                        0  \n",
       "143  linkedin.com                        0  \n",
       "\n",
       "[144 rows x 6 columns]"
      ]
     },
     "execution_count": 43,
     "metadata": {},
     "output_type": "execute_result"
    }
   ],
   "source": [
    "df_og = pd.read_csv(\"data/jobs.csv\")\n",
    "\n",
    "# adding a column to ID companies that ghosted after interview\n",
    "df_og['Ghosted after interview'] = 0\n",
    "ghosters = df_og.loc[df_og['Company']=='OrderEase'].index[0]\n",
    "df_og.at[ghosters, 'Ghosted after interview'] = 1\n",
    "df_og"
   ]
  },
  {
   "cell_type": "code",
   "execution_count": 77,
   "metadata": {},
   "outputs": [],
   "source": [
    "df = df_og"
   ]
  },
  {
   "cell_type": "code",
   "execution_count": 80,
   "metadata": {},
   "outputs": [],
   "source": [
    "df['Category'] = 'Other'\n",
    "df.loc[df['Title'].str.contains('Data Scientist', case=False), 'Category'] = 'Data Scientist'\n",
    "df.loc[df['Title'].str.contains('analyst', case=False), 'Category'] = 'Data Analyst'\n",
    "df.loc[df['Title'].str.contains('Data engineer', case=False), 'Category'] = 'Data Engineer'\n",
    "df.loc[df['Title'].str.contains('Python', case=False), 'Category'] = 'Python Dev'\n",
    "df.loc[df['Title'].str.contains('Machine Learning', case=False), 'Category'] = 'ML Engineer'"
   ]
  },
  {
   "cell_type": "code",
   "execution_count": 81,
   "metadata": {},
   "outputs": [
    {
     "data": {
      "text/html": [
       "<div>\n",
       "<style scoped>\n",
       "    .dataframe tbody tr th:only-of-type {\n",
       "        vertical-align: middle;\n",
       "    }\n",
       "\n",
       "    .dataframe tbody tr th {\n",
       "        vertical-align: top;\n",
       "    }\n",
       "\n",
       "    .dataframe thead th {\n",
       "        text-align: right;\n",
       "    }\n",
       "</style>\n",
       "<table border=\"1\" class=\"dataframe\">\n",
       "  <thead>\n",
       "    <tr style=\"text-align: right;\">\n",
       "      <th></th>\n",
       "      <th>Title</th>\n",
       "      <th>Company</th>\n",
       "      <th>Created at</th>\n",
       "      <th>List</th>\n",
       "      <th>Source</th>\n",
       "      <th>Ghosted after interview</th>\n",
       "      <th>Category</th>\n",
       "    </tr>\n",
       "  </thead>\n",
       "  <tbody>\n",
       "    <tr>\n",
       "      <th>0</th>\n",
       "      <td>Principal Data Scientist , Search and Personal...</td>\n",
       "      <td>Getty Images</td>\n",
       "      <td>May 19 2023, 09:00 am</td>\n",
       "      <td>apply to</td>\n",
       "      <td>linkedin.com</td>\n",
       "      <td>0</td>\n",
       "      <td>Data Scientist</td>\n",
       "    </tr>\n",
       "    <tr>\n",
       "      <th>1</th>\n",
       "      <td>Trading Application Support Analyst</td>\n",
       "      <td>John Wiley &amp; Sons</td>\n",
       "      <td>May 19 2023, 08:22 am</td>\n",
       "      <td>apply to</td>\n",
       "      <td>linkedin.com</td>\n",
       "      <td>0</td>\n",
       "      <td>Data Analyst</td>\n",
       "    </tr>\n",
       "    <tr>\n",
       "      <th>2</th>\n",
       "      <td>Computational Cancer Biologist</td>\n",
       "      <td>Vevo Therapeutics</td>\n",
       "      <td>May 19 2023, 07:00 am</td>\n",
       "      <td>applied</td>\n",
       "      <td>linkedin.com</td>\n",
       "      <td>0</td>\n",
       "      <td>Other</td>\n",
       "    </tr>\n",
       "    <tr>\n",
       "      <th>3</th>\n",
       "      <td>Data Engineer</td>\n",
       "      <td>Aja Hannah</td>\n",
       "      <td>May 19 2023, 07:00 am</td>\n",
       "      <td>applied</td>\n",
       "      <td>linkedin.com</td>\n",
       "      <td>0</td>\n",
       "      <td>Data Engineer</td>\n",
       "    </tr>\n",
       "    <tr>\n",
       "      <th>4</th>\n",
       "      <td>Data Analytics Engineer/Specialist</td>\n",
       "      <td>ConocoPhillips</td>\n",
       "      <td>May 19 2023, 06:39 am</td>\n",
       "      <td>applied</td>\n",
       "      <td>indeed.com</td>\n",
       "      <td>0</td>\n",
       "      <td>Other</td>\n",
       "    </tr>\n",
       "    <tr>\n",
       "      <th>...</th>\n",
       "      <td>...</td>\n",
       "      <td>...</td>\n",
       "      <td>...</td>\n",
       "      <td>...</td>\n",
       "      <td>...</td>\n",
       "      <td>...</td>\n",
       "      <td>...</td>\n",
       "    </tr>\n",
       "    <tr>\n",
       "      <th>139</th>\n",
       "      <td>Product Support Analyst</td>\n",
       "      <td>Central Michigan University</td>\n",
       "      <td>Apr 17 2023, 06:05 pm</td>\n",
       "      <td>applied</td>\n",
       "      <td>indeed.com</td>\n",
       "      <td>0</td>\n",
       "      <td>Data Analyst</td>\n",
       "    </tr>\n",
       "    <tr>\n",
       "      <th>140</th>\n",
       "      <td>Performance Analyst – Hydroelectric energy</td>\n",
       "      <td>Innergex</td>\n",
       "      <td>Apr 17 2023, 06:05 pm</td>\n",
       "      <td>applied</td>\n",
       "      <td>indeed.com</td>\n",
       "      <td>0</td>\n",
       "      <td>Data Analyst</td>\n",
       "    </tr>\n",
       "    <tr>\n",
       "      <th>141</th>\n",
       "      <td>Data Analyst, Business Optimisation</td>\n",
       "      <td>VOSKER</td>\n",
       "      <td>Apr 17 2023, 06:05 pm</td>\n",
       "      <td>applied</td>\n",
       "      <td>indeed.com</td>\n",
       "      <td>0</td>\n",
       "      <td>Data Analyst</td>\n",
       "    </tr>\n",
       "    <tr>\n",
       "      <th>142</th>\n",
       "      <td>Data Scientist</td>\n",
       "      <td>PROFICIENTMANAGEMENT</td>\n",
       "      <td>Apr 17 2023, 06:05 pm</td>\n",
       "      <td>applied</td>\n",
       "      <td>indeed.com</td>\n",
       "      <td>0</td>\n",
       "      <td>Data Scientist</td>\n",
       "    </tr>\n",
       "    <tr>\n",
       "      <th>143</th>\n",
       "      <td>Statistician</td>\n",
       "      <td>Charlton Morris</td>\n",
       "      <td>Apr 17 2023, 06:04 pm</td>\n",
       "      <td>TRASH</td>\n",
       "      <td>linkedin.com</td>\n",
       "      <td>0</td>\n",
       "      <td>Other</td>\n",
       "    </tr>\n",
       "  </tbody>\n",
       "</table>\n",
       "<p>144 rows × 7 columns</p>\n",
       "</div>"
      ],
      "text/plain": [
       "                                                 Title   \n",
       "0    Principal Data Scientist , Search and Personal...  \\\n",
       "1                  Trading Application Support Analyst   \n",
       "2                       Computational Cancer Biologist   \n",
       "3                                        Data Engineer   \n",
       "4                   Data Analytics Engineer/Specialist   \n",
       "..                                                 ...   \n",
       "139                            Product Support Analyst   \n",
       "140         Performance Analyst – Hydroelectric energy   \n",
       "141                Data Analyst, Business Optimisation   \n",
       "142                                     Data Scientist   \n",
       "143                                       Statistician   \n",
       "\n",
       "                         Company             Created at      List   \n",
       "0                   Getty Images  May 19 2023, 09:00 am  apply to  \\\n",
       "1              John Wiley & Sons  May 19 2023, 08:22 am  apply to   \n",
       "2              Vevo Therapeutics  May 19 2023, 07:00 am   applied   \n",
       "3                     Aja Hannah  May 19 2023, 07:00 am   applied   \n",
       "4                 ConocoPhillips  May 19 2023, 06:39 am   applied   \n",
       "..                           ...                    ...       ...   \n",
       "139  Central Michigan University  Apr 17 2023, 06:05 pm   applied   \n",
       "140                     Innergex  Apr 17 2023, 06:05 pm   applied   \n",
       "141                       VOSKER  Apr 17 2023, 06:05 pm   applied   \n",
       "142         PROFICIENTMANAGEMENT  Apr 17 2023, 06:05 pm   applied   \n",
       "143              Charlton Morris  Apr 17 2023, 06:04 pm     TRASH   \n",
       "\n",
       "           Source  Ghosted after interview        Category  \n",
       "0    linkedin.com                        0  Data Scientist  \n",
       "1    linkedin.com                        0    Data Analyst  \n",
       "2    linkedin.com                        0           Other  \n",
       "3    linkedin.com                        0   Data Engineer  \n",
       "4      indeed.com                        0           Other  \n",
       "..            ...                      ...             ...  \n",
       "139    indeed.com                        0    Data Analyst  \n",
       "140    indeed.com                        0    Data Analyst  \n",
       "141    indeed.com                        0    Data Analyst  \n",
       "142    indeed.com                        0  Data Scientist  \n",
       "143  linkedin.com                        0           Other  \n",
       "\n",
       "[144 rows x 7 columns]"
      ]
     },
     "execution_count": 81,
     "metadata": {},
     "output_type": "execute_result"
    }
   ],
   "source": [
    "df"
   ]
  },
  {
   "cell_type": "code",
   "execution_count": 47,
   "metadata": {},
   "outputs": [],
   "source": [
    "\n",
    "\n",
    "# clean up the sources \n",
    "source_list = ['indeed.com','linkedin.com','otta.com']\n",
    "df['Source'] = df['Source'].apply(lambda x: x if x in source_list else 'other')\n",
    "\n",
    "df = df[df['List'].str.contains('apply to') == False]\n"
   ]
  },
  {
   "cell_type": "code",
   "execution_count": 29,
   "metadata": {},
   "outputs": [
    {
     "data": {
      "text/plain": [
       "Source\n",
       "indeed.com      68\n",
       "linkedin.com    40\n",
       "other           18\n",
       "otta.com        16\n",
       "Name: count, dtype: int64"
      ]
     },
     "execution_count": 29,
     "metadata": {},
     "output_type": "execute_result"
    }
   ],
   "source": [
    "df['Source'].value_counts()"
   ]
  },
  {
   "cell_type": "code",
   "execution_count": 30,
   "metadata": {},
   "outputs": [
    {
     "data": {
      "text/plain": [
       "List\n",
       "applied                     105\n",
       "TRASH                        34\n",
       "Rejected after interview      3\n",
       "Name: count, dtype: int64"
      ]
     },
     "execution_count": 30,
     "metadata": {},
     "output_type": "execute_result"
    }
   ],
   "source": [
    "df['List'].value_counts()"
   ]
  },
  {
   "cell_type": "code",
   "execution_count": 52,
   "metadata": {},
   "outputs": [
    {
     "data": {
      "text/plain": [
       "1"
      ]
     },
     "execution_count": 52,
     "metadata": {},
     "output_type": "execute_result"
    }
   ],
   "source": [
    "df['Ghosted after interview'].sum()"
   ]
  },
  {
   "cell_type": "code",
   "execution_count": 55,
   "metadata": {},
   "outputs": [
    {
     "data": {
      "text/plain": [
       "105"
      ]
     },
     "execution_count": 55,
     "metadata": {},
     "output_type": "execute_result"
    }
   ],
   "source": [
    "no_response_count"
   ]
  },
  {
   "cell_type": "code",
   "execution_count": 66,
   "metadata": {},
   "outputs": [],
   "source": [
    "linkedin_count = df['Source'].value_counts()['linkedin.com']\n",
    "indeed_count = df['Source'].value_counts()['indeed.com']\n",
    "otta_count = df['Source'].value_counts()['otta.com']\n",
    "other_count = df['Source'].value_counts()['other']\n",
    "applied_count = df['List'].value_counts()['applied']\n",
    "rejected_interview_count = df['List'].value_counts()['Rejected after interview'] - df['Ghosted after interview'].sum()\n",
    "rejected_count =  df['List'].value_counts()['TRASH']\n",
    "interview_count = df['List'].value_counts()['Rejected after interview']\n",
    "ghosted_count = df['Ghosted after interview'].sum()\n",
    "no_response_count = len(df)  - rejected_count - rejected_interview_count - ghosted_count\n"
   ]
  },
  {
   "cell_type": "code",
   "execution_count": 67,
   "metadata": {},
   "outputs": [],
   "source": [
    "nodes = [\n",
    "    {'label': 'Linkedin'},      # 0\n",
    "    {'label': 'Indeed'},        # 1\n",
    "    {'label': 'Otta'},          # 2 \n",
    "    {'label': 'Other'},         # 3\n",
    "    {'label': 'Applied'},       # 4\n",
    "    {'label': 'No Response'},   # 5\n",
    "    {'label': 'Rejected'},      # 6\n",
    "    {'label': 'Ghosted'},       # 7\n",
    "    {'label': 'Interview'},     # 8\n",
    "]\n",
    "\n",
    "\n",
    "# links = [\n",
    "#     {'source': 'Linkedin', 'target': 'Applied', 'value': 10},  # Flow from Node 1 to Node 2 with value 10\n",
    "#     {'source': 'Indeed', 'target': 'Applied', 'value': 5},\n",
    "#     {'source': 'Otta', 'target': 'Applied', 'value': 5},   # Flow from Node 2 to Node 3 with value 5\n",
    "#     {'source': 'Other', 'target': 'Applied', 'value': 5},\n",
    "#     {'source': 'Applied', 'target': 'No Response', 'value': 5},\n",
    "#     {'source': 'Applied', 'target': 'Rejected', 'value': 5},\n",
    "#     {'source': 'Applied', 'target': 'Interview', 'value': 5},\n",
    "#     {'source': 'Interview', 'target': 'Rejected', 'value': 5},\n",
    "#     {'source': 'Applied', 'target': 'Ghosted', 'value': 5},\n",
    "\n",
    "# ]"
   ]
  },
  {
   "cell_type": "code",
   "execution_count": 69,
   "metadata": {},
   "outputs": [
    {
     "data": {
      "application/vnd.plotly.v1+json": {
       "config": {
        "plotlyServerURL": "https://plot.ly"
       },
       "data": [
        {
         "link": {
          "source": [
           0,
           1,
           2,
           3,
           4,
           4,
           4,
           8,
           8
          ],
          "target": [
           4,
           4,
           4,
           4,
           5,
           6,
           8,
           7,
           6
          ],
          "value": [
           40,
           68,
           16,
           18,
           105,
           34,
           3,
           1,
           2
          ]
         },
         "node": {
          "label": [
           "Linkedin",
           "Indeed",
           "Otta",
           "Other",
           "Applied",
           "No Response",
           "Rejected",
           "Ghosted",
           "Interview"
          ]
         },
         "type": "sankey"
        }
       ],
       "layout": {
        "template": {
         "data": {
          "bar": [
           {
            "error_x": {
             "color": "#2a3f5f"
            },
            "error_y": {
             "color": "#2a3f5f"
            },
            "marker": {
             "line": {
              "color": "#E5ECF6",
              "width": 0.5
             },
             "pattern": {
              "fillmode": "overlay",
              "size": 10,
              "solidity": 0.2
             }
            },
            "type": "bar"
           }
          ],
          "barpolar": [
           {
            "marker": {
             "line": {
              "color": "#E5ECF6",
              "width": 0.5
             },
             "pattern": {
              "fillmode": "overlay",
              "size": 10,
              "solidity": 0.2
             }
            },
            "type": "barpolar"
           }
          ],
          "carpet": [
           {
            "aaxis": {
             "endlinecolor": "#2a3f5f",
             "gridcolor": "white",
             "linecolor": "white",
             "minorgridcolor": "white",
             "startlinecolor": "#2a3f5f"
            },
            "baxis": {
             "endlinecolor": "#2a3f5f",
             "gridcolor": "white",
             "linecolor": "white",
             "minorgridcolor": "white",
             "startlinecolor": "#2a3f5f"
            },
            "type": "carpet"
           }
          ],
          "choropleth": [
           {
            "colorbar": {
             "outlinewidth": 0,
             "ticks": ""
            },
            "type": "choropleth"
           }
          ],
          "contour": [
           {
            "colorbar": {
             "outlinewidth": 0,
             "ticks": ""
            },
            "colorscale": [
             [
              0,
              "#0d0887"
             ],
             [
              0.1111111111111111,
              "#46039f"
             ],
             [
              0.2222222222222222,
              "#7201a8"
             ],
             [
              0.3333333333333333,
              "#9c179e"
             ],
             [
              0.4444444444444444,
              "#bd3786"
             ],
             [
              0.5555555555555556,
              "#d8576b"
             ],
             [
              0.6666666666666666,
              "#ed7953"
             ],
             [
              0.7777777777777778,
              "#fb9f3a"
             ],
             [
              0.8888888888888888,
              "#fdca26"
             ],
             [
              1,
              "#f0f921"
             ]
            ],
            "type": "contour"
           }
          ],
          "contourcarpet": [
           {
            "colorbar": {
             "outlinewidth": 0,
             "ticks": ""
            },
            "type": "contourcarpet"
           }
          ],
          "heatmap": [
           {
            "colorbar": {
             "outlinewidth": 0,
             "ticks": ""
            },
            "colorscale": [
             [
              0,
              "#0d0887"
             ],
             [
              0.1111111111111111,
              "#46039f"
             ],
             [
              0.2222222222222222,
              "#7201a8"
             ],
             [
              0.3333333333333333,
              "#9c179e"
             ],
             [
              0.4444444444444444,
              "#bd3786"
             ],
             [
              0.5555555555555556,
              "#d8576b"
             ],
             [
              0.6666666666666666,
              "#ed7953"
             ],
             [
              0.7777777777777778,
              "#fb9f3a"
             ],
             [
              0.8888888888888888,
              "#fdca26"
             ],
             [
              1,
              "#f0f921"
             ]
            ],
            "type": "heatmap"
           }
          ],
          "heatmapgl": [
           {
            "colorbar": {
             "outlinewidth": 0,
             "ticks": ""
            },
            "colorscale": [
             [
              0,
              "#0d0887"
             ],
             [
              0.1111111111111111,
              "#46039f"
             ],
             [
              0.2222222222222222,
              "#7201a8"
             ],
             [
              0.3333333333333333,
              "#9c179e"
             ],
             [
              0.4444444444444444,
              "#bd3786"
             ],
             [
              0.5555555555555556,
              "#d8576b"
             ],
             [
              0.6666666666666666,
              "#ed7953"
             ],
             [
              0.7777777777777778,
              "#fb9f3a"
             ],
             [
              0.8888888888888888,
              "#fdca26"
             ],
             [
              1,
              "#f0f921"
             ]
            ],
            "type": "heatmapgl"
           }
          ],
          "histogram": [
           {
            "marker": {
             "pattern": {
              "fillmode": "overlay",
              "size": 10,
              "solidity": 0.2
             }
            },
            "type": "histogram"
           }
          ],
          "histogram2d": [
           {
            "colorbar": {
             "outlinewidth": 0,
             "ticks": ""
            },
            "colorscale": [
             [
              0,
              "#0d0887"
             ],
             [
              0.1111111111111111,
              "#46039f"
             ],
             [
              0.2222222222222222,
              "#7201a8"
             ],
             [
              0.3333333333333333,
              "#9c179e"
             ],
             [
              0.4444444444444444,
              "#bd3786"
             ],
             [
              0.5555555555555556,
              "#d8576b"
             ],
             [
              0.6666666666666666,
              "#ed7953"
             ],
             [
              0.7777777777777778,
              "#fb9f3a"
             ],
             [
              0.8888888888888888,
              "#fdca26"
             ],
             [
              1,
              "#f0f921"
             ]
            ],
            "type": "histogram2d"
           }
          ],
          "histogram2dcontour": [
           {
            "colorbar": {
             "outlinewidth": 0,
             "ticks": ""
            },
            "colorscale": [
             [
              0,
              "#0d0887"
             ],
             [
              0.1111111111111111,
              "#46039f"
             ],
             [
              0.2222222222222222,
              "#7201a8"
             ],
             [
              0.3333333333333333,
              "#9c179e"
             ],
             [
              0.4444444444444444,
              "#bd3786"
             ],
             [
              0.5555555555555556,
              "#d8576b"
             ],
             [
              0.6666666666666666,
              "#ed7953"
             ],
             [
              0.7777777777777778,
              "#fb9f3a"
             ],
             [
              0.8888888888888888,
              "#fdca26"
             ],
             [
              1,
              "#f0f921"
             ]
            ],
            "type": "histogram2dcontour"
           }
          ],
          "mesh3d": [
           {
            "colorbar": {
             "outlinewidth": 0,
             "ticks": ""
            },
            "type": "mesh3d"
           }
          ],
          "parcoords": [
           {
            "line": {
             "colorbar": {
              "outlinewidth": 0,
              "ticks": ""
             }
            },
            "type": "parcoords"
           }
          ],
          "pie": [
           {
            "automargin": true,
            "type": "pie"
           }
          ],
          "scatter": [
           {
            "fillpattern": {
             "fillmode": "overlay",
             "size": 10,
             "solidity": 0.2
            },
            "type": "scatter"
           }
          ],
          "scatter3d": [
           {
            "line": {
             "colorbar": {
              "outlinewidth": 0,
              "ticks": ""
             }
            },
            "marker": {
             "colorbar": {
              "outlinewidth": 0,
              "ticks": ""
             }
            },
            "type": "scatter3d"
           }
          ],
          "scattercarpet": [
           {
            "marker": {
             "colorbar": {
              "outlinewidth": 0,
              "ticks": ""
             }
            },
            "type": "scattercarpet"
           }
          ],
          "scattergeo": [
           {
            "marker": {
             "colorbar": {
              "outlinewidth": 0,
              "ticks": ""
             }
            },
            "type": "scattergeo"
           }
          ],
          "scattergl": [
           {
            "marker": {
             "colorbar": {
              "outlinewidth": 0,
              "ticks": ""
             }
            },
            "type": "scattergl"
           }
          ],
          "scattermapbox": [
           {
            "marker": {
             "colorbar": {
              "outlinewidth": 0,
              "ticks": ""
             }
            },
            "type": "scattermapbox"
           }
          ],
          "scatterpolar": [
           {
            "marker": {
             "colorbar": {
              "outlinewidth": 0,
              "ticks": ""
             }
            },
            "type": "scatterpolar"
           }
          ],
          "scatterpolargl": [
           {
            "marker": {
             "colorbar": {
              "outlinewidth": 0,
              "ticks": ""
             }
            },
            "type": "scatterpolargl"
           }
          ],
          "scatterternary": [
           {
            "marker": {
             "colorbar": {
              "outlinewidth": 0,
              "ticks": ""
             }
            },
            "type": "scatterternary"
           }
          ],
          "surface": [
           {
            "colorbar": {
             "outlinewidth": 0,
             "ticks": ""
            },
            "colorscale": [
             [
              0,
              "#0d0887"
             ],
             [
              0.1111111111111111,
              "#46039f"
             ],
             [
              0.2222222222222222,
              "#7201a8"
             ],
             [
              0.3333333333333333,
              "#9c179e"
             ],
             [
              0.4444444444444444,
              "#bd3786"
             ],
             [
              0.5555555555555556,
              "#d8576b"
             ],
             [
              0.6666666666666666,
              "#ed7953"
             ],
             [
              0.7777777777777778,
              "#fb9f3a"
             ],
             [
              0.8888888888888888,
              "#fdca26"
             ],
             [
              1,
              "#f0f921"
             ]
            ],
            "type": "surface"
           }
          ],
          "table": [
           {
            "cells": {
             "fill": {
              "color": "#EBF0F8"
             },
             "line": {
              "color": "white"
             }
            },
            "header": {
             "fill": {
              "color": "#C8D4E3"
             },
             "line": {
              "color": "white"
             }
            },
            "type": "table"
           }
          ]
         },
         "layout": {
          "annotationdefaults": {
           "arrowcolor": "#2a3f5f",
           "arrowhead": 0,
           "arrowwidth": 1
          },
          "autotypenumbers": "strict",
          "coloraxis": {
           "colorbar": {
            "outlinewidth": 0,
            "ticks": ""
           }
          },
          "colorscale": {
           "diverging": [
            [
             0,
             "#8e0152"
            ],
            [
             0.1,
             "#c51b7d"
            ],
            [
             0.2,
             "#de77ae"
            ],
            [
             0.3,
             "#f1b6da"
            ],
            [
             0.4,
             "#fde0ef"
            ],
            [
             0.5,
             "#f7f7f7"
            ],
            [
             0.6,
             "#e6f5d0"
            ],
            [
             0.7,
             "#b8e186"
            ],
            [
             0.8,
             "#7fbc41"
            ],
            [
             0.9,
             "#4d9221"
            ],
            [
             1,
             "#276419"
            ]
           ],
           "sequential": [
            [
             0,
             "#0d0887"
            ],
            [
             0.1111111111111111,
             "#46039f"
            ],
            [
             0.2222222222222222,
             "#7201a8"
            ],
            [
             0.3333333333333333,
             "#9c179e"
            ],
            [
             0.4444444444444444,
             "#bd3786"
            ],
            [
             0.5555555555555556,
             "#d8576b"
            ],
            [
             0.6666666666666666,
             "#ed7953"
            ],
            [
             0.7777777777777778,
             "#fb9f3a"
            ],
            [
             0.8888888888888888,
             "#fdca26"
            ],
            [
             1,
             "#f0f921"
            ]
           ],
           "sequentialminus": [
            [
             0,
             "#0d0887"
            ],
            [
             0.1111111111111111,
             "#46039f"
            ],
            [
             0.2222222222222222,
             "#7201a8"
            ],
            [
             0.3333333333333333,
             "#9c179e"
            ],
            [
             0.4444444444444444,
             "#bd3786"
            ],
            [
             0.5555555555555556,
             "#d8576b"
            ],
            [
             0.6666666666666666,
             "#ed7953"
            ],
            [
             0.7777777777777778,
             "#fb9f3a"
            ],
            [
             0.8888888888888888,
             "#fdca26"
            ],
            [
             1,
             "#f0f921"
            ]
           ]
          },
          "colorway": [
           "#636efa",
           "#EF553B",
           "#00cc96",
           "#ab63fa",
           "#FFA15A",
           "#19d3f3",
           "#FF6692",
           "#B6E880",
           "#FF97FF",
           "#FECB52"
          ],
          "font": {
           "color": "#2a3f5f"
          },
          "geo": {
           "bgcolor": "white",
           "lakecolor": "white",
           "landcolor": "#E5ECF6",
           "showlakes": true,
           "showland": true,
           "subunitcolor": "white"
          },
          "hoverlabel": {
           "align": "left"
          },
          "hovermode": "closest",
          "mapbox": {
           "style": "light"
          },
          "paper_bgcolor": "white",
          "plot_bgcolor": "#E5ECF6",
          "polar": {
           "angularaxis": {
            "gridcolor": "white",
            "linecolor": "white",
            "ticks": ""
           },
           "bgcolor": "#E5ECF6",
           "radialaxis": {
            "gridcolor": "white",
            "linecolor": "white",
            "ticks": ""
           }
          },
          "scene": {
           "xaxis": {
            "backgroundcolor": "#E5ECF6",
            "gridcolor": "white",
            "gridwidth": 2,
            "linecolor": "white",
            "showbackground": true,
            "ticks": "",
            "zerolinecolor": "white"
           },
           "yaxis": {
            "backgroundcolor": "#E5ECF6",
            "gridcolor": "white",
            "gridwidth": 2,
            "linecolor": "white",
            "showbackground": true,
            "ticks": "",
            "zerolinecolor": "white"
           },
           "zaxis": {
            "backgroundcolor": "#E5ECF6",
            "gridcolor": "white",
            "gridwidth": 2,
            "linecolor": "white",
            "showbackground": true,
            "ticks": "",
            "zerolinecolor": "white"
           }
          },
          "shapedefaults": {
           "line": {
            "color": "#2a3f5f"
           }
          },
          "ternary": {
           "aaxis": {
            "gridcolor": "white",
            "linecolor": "white",
            "ticks": ""
           },
           "baxis": {
            "gridcolor": "white",
            "linecolor": "white",
            "ticks": ""
           },
           "bgcolor": "#E5ECF6",
           "caxis": {
            "gridcolor": "white",
            "linecolor": "white",
            "ticks": ""
           }
          },
          "title": {
           "x": 0.05
          },
          "xaxis": {
           "automargin": true,
           "gridcolor": "white",
           "linecolor": "white",
           "ticks": "",
           "title": {
            "standoff": 15
           },
           "zerolinecolor": "white",
           "zerolinewidth": 2
          },
          "yaxis": {
           "automargin": true,
           "gridcolor": "white",
           "linecolor": "white",
           "ticks": "",
           "title": {
            "standoff": 15
           },
           "zerolinecolor": "white",
           "zerolinewidth": 2
          }
         }
        }
       }
      }
     },
     "metadata": {},
     "output_type": "display_data"
    }
   ],
   "source": [
    "# Create the figure\n",
    "fig = go.Figure(data=[go.Sankey(\n",
    "    node=dict(\n",
    "        label=[node['label'] for node in nodes],\n",
    "    ),\n",
    "    link = dict(\n",
    "    source = [0,1,2,3,4,4,4,8,8],\n",
    "    target = [4,4,4,4,5,6,8,7,6],\n",
    "    value =  [linkedin_count,\n",
    "               indeed_count,\n",
    "               otta_count,\n",
    "               other_count,\n",
    "               no_response_count,\n",
    "               rejected_count,\n",
    "               interview_count,\n",
    "               ghosted_count,\n",
    "               rejected_interview_count\n",
    "               ]\n",
    "    )\n",
    "    # link=dict(\n",
    "    #     source=[link['source'] for link in links],\n",
    "    #     target=[link['target'] for link in links],\n",
    "    #     value=[link['value'] for link in links]\n",
    "    # )\n",
    ")])\n",
    "\n",
    "# Display the figure\n",
    "fig.show()"
   ]
  }
 ],
 "metadata": {
  "kernelspec": {
   "display_name": ".venv",
   "language": "python",
   "name": "python3"
  },
  "language_info": {
   "codemirror_mode": {
    "name": "ipython",
    "version": 3
   },
   "file_extension": ".py",
   "mimetype": "text/x-python",
   "name": "python",
   "nbconvert_exporter": "python",
   "pygments_lexer": "ipython3",
   "version": "3.11.1"
  },
  "orig_nbformat": 4
 },
 "nbformat": 4,
 "nbformat_minor": 2
}
